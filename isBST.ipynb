{
 "cells": [
  {
   "cell_type": "code",
   "execution_count": 2,
   "metadata": {
    "collapsed": true
   },
   "outputs": [],
   "source": [
    "class Node :\n",
    "    def __init__(self,data):\n",
    "        self.data=data;\n",
    "        self.left=None;\n",
    "        self.right=None;\n"
   ]
  },
  {
   "cell_type": "code",
   "execution_count": 3,
   "metadata": {
    "collapsed": false
   },
   "outputs": [],
   "source": [
    "class BST :\n",
    "    \n",
    "    \n",
    "    def __init__(self,root):\n",
    "        #print(\"hello\")\n",
    "        self.prev=Node(-4333)\n",
    "        #self.isBSTree(root,prev)\n",
    "    \n",
    "    def isBSTree(self,node,prev):\n",
    "        if (node != None) :\n",
    "            #Go to left most node\n",
    "            if( self.isBSTree(node.left,self.prev) == False ):\n",
    "                return False;\n",
    "\n",
    "            if((node.data < self.prev.data) & (self.prev != None) ) :\n",
    "\n",
    "                print(\"node.data is : \"+str(node.data))\n",
    "                print(\"prev.data is : \"+str(self.prev.data))\n",
    "                return False;\n",
    "            else :\n",
    "                print(\"------------------------------------------\")\n",
    "                print(\"node.data is : \"+str(node.data))\n",
    "                print(\"prev.data is : \"+str(self.prev.data))\n",
    "            \n",
    "            self.prev.data = node.data;\n",
    "            print(\"prev node data changed : \"+str(self.prev.data))\n",
    "            if( self.isBSTree(node.right,self.prev) == False):\n",
    "                return False;\n",
    "        return True;"
   ]
  },
  {
   "cell_type": "code",
   "execution_count": 4,
   "metadata": {
    "collapsed": false
   },
   "outputs": [],
   "source": [
    "root=Node(4)\n",
    "root.left=Node(2)\n",
    "root.right=Node(6)\n",
    "root.left.left=Node(1)\n",
    "root.left.right=Node(3)"
   ]
  },
  {
   "cell_type": "code",
   "execution_count": 5,
   "metadata": {
    "collapsed": false
   },
   "outputs": [],
   "source": [
    "root.right.left=Node(5)\n",
    "bst=BST(root)"
   ]
  },
  {
   "cell_type": "code",
   "execution_count": 6,
   "metadata": {
    "collapsed": false
   },
   "outputs": [
    {
     "name": "stdout",
     "output_type": "stream",
     "text": [
      "------------------------------------------\n",
      "node.data is : 1\n",
      "prev.data is : -4333\n",
      "prev node data changed : 1\n",
      "------------------------------------------\n",
      "node.data is : 2\n",
      "prev.data is : 1\n",
      "prev node data changed : 2\n",
      "------------------------------------------\n",
      "node.data is : 3\n",
      "prev.data is : 2\n",
      "prev node data changed : 3\n",
      "------------------------------------------\n",
      "node.data is : 4\n",
      "prev.data is : 3\n",
      "prev node data changed : 4\n",
      "------------------------------------------\n",
      "node.data is : 5\n",
      "prev.data is : 4\n",
      "prev node data changed : 5\n",
      "------------------------------------------\n",
      "node.data is : 6\n",
      "prev.data is : 5\n",
      "prev node data changed : 6\n",
      "True\n"
     ]
    }
   ],
   "source": [
    "print(bst.isBSTree(root,Node(-43333)));"
   ]
  },
  {
   "cell_type": "code",
   "execution_count": 7,
   "metadata": {
    "collapsed": false
   },
   "outputs": [
    {
     "name": "stdout",
     "output_type": "stream",
     "text": [
      "------------------------------------------\n",
      "node.data is : 1\n",
      "prev.data is : -4333\n",
      "prev node data changed : 1\n",
      "------------------------------------------\n",
      "node.data is : 2\n",
      "prev.data is : 1\n",
      "prev node data changed : 2\n",
      "------------------------------------------\n",
      "node.data is : 3\n",
      "prev.data is : 2\n",
      "prev node data changed : 3\n",
      "------------------------------------------\n",
      "node.data is : 4\n",
      "prev.data is : 3\n",
      "prev node data changed : 4\n",
      "------------------------------------------\n",
      "node.data is : 6\n",
      "prev.data is : 4\n",
      "prev node data changed : 6\n",
      "node.data is : 5\n",
      "prev.data is : 6\n",
      "False\n"
     ]
    }
   ],
   "source": [
    "root=Node(4)\n",
    "root.left=Node(2)\n",
    "root.right=Node(5)\n",
    "root.left.left=Node(1)\n",
    "root.left.right=Node(3)\n",
    "root.right.left=Node(6)\n",
    "bst=BST(root)\n",
    "print(bst.isBSTree(root,Node(-43333)));"
   ]
  },
  {
   "cell_type": "code",
   "execution_count": 12,
   "metadata": {
    "collapsed": false
   },
   "outputs": [
    {
     "name": "stdout",
     "output_type": "stream",
     "text": [
      "Not a BST\n"
     ]
    }
   ],
   "source": []
  },
  {
   "cell_type": "code",
   "execution_count": null,
   "metadata": {
    "collapsed": true
   },
   "outputs": [],
   "source": []
  }
 ],
 "metadata": {
  "kernelspec": {
   "display_name": "Python 3",
   "language": "python",
   "name": "python3"
  },
  "language_info": {
   "codemirror_mode": {
    "name": "ipython",
    "version": 3
   },
   "file_extension": ".py",
   "mimetype": "text/x-python",
   "name": "python",
   "nbconvert_exporter": "python",
   "pygments_lexer": "ipython3",
   "version": "3.4.3"
  }
 },
 "nbformat": 4,
 "nbformat_minor": 0
}
